{
 "cells": [
  {
   "cell_type": "markdown",
   "metadata": {},
   "source": [
    "# Day 21 Cramming Linear Algebra\n",
    "[3Blue1Brown--《线性代数的本质》包括了向量，线性组\n",
    "合，跨度，基向量，线性变换和矩阵乘法。](https://space.bilibili.com/88461692/#/channel/detail?cid=9450)"
   ]
  },
  {
   "cell_type": "markdown",
   "metadata": {},
   "source": [
    "一种更易于理解向量的方式:\n",
    "![figure1](../figure/day21_linear_algebra1.png)"
   ]
  },
  {
   "cell_type": "markdown",
   "metadata": {},
   "source": [
    "每一对数给出唯一一个向量，而每一个向量恰好对应唯一一对数。\n",
    "<br>\n",
    "同样，对于3维空间而言：可理解为第一个数沿x轴走多远，第二个数沿着y轴走多远，第三个数沿着z轴走多远，每一个三元元组给出唯一一个向量，而每一个向量恰好对应唯一一个三元元组。"
   ]
  },
  {
   "cell_type": "code",
   "execution_count": null,
   "metadata": {},
   "outputs": [],
   "source": []
  }
 ],
 "metadata": {
  "kernelspec": {
   "display_name": "data_analysis",
   "language": "python",
   "name": "data_analysis"
  },
  "language_info": {
   "codemirror_mode": {
    "name": "ipython",
    "version": 3
   },
   "file_extension": ".py",
   "mimetype": "text/x-python",
   "name": "python",
   "nbconvert_exporter": "python",
   "pygments_lexer": "ipython3",
   "version": "3.7.0"
  }
 },
 "nbformat": 4,
 "nbformat_minor": 2
}
