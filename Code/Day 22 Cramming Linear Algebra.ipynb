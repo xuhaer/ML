{
 "cells": [
  {
   "cell_type": "markdown",
   "metadata": {},
   "source": [
    "# Day 22 Cramming Linear Algebra\n",
    "[3Blue1Brown--《线性代数的本质》包括了向量，线性组\n",
    "合，跨度，基向量，线性变换和矩阵乘法。](https://space.bilibili.com/88461692/#/channel/detail?cid=9450)"
   ]
  },
  {
   "cell_type": "markdown",
   "metadata": {},
   "source": [
    "## 1.一种更易于理解向量的方式:\n",
    "![figure1](../figure/day21_linear_algebra1.png)"
   ]
  },
  {
   "cell_type": "markdown",
   "metadata": {},
   "source": [
    "每一对数给出唯一一个向量，而每一个向量恰好对应唯一一对数。\n",
    "<br>\n",
    "同样，对于3维空间而言：可理解为第一个数沿x轴走多远，第二个数沿着y轴走多远，第三个数沿着z轴走多远，每一个三元元组给出唯一一个向量，而每一个向量恰好对应唯一一个三元元组。"
   ]
  },
  {
   "cell_type": "markdown",
   "metadata": {},
   "source": [
    "## 2.线性代数的变换与它与矩阵的关系"
   ]
  },
  {
   "cell_type": "markdown",
   "metadata": {},
   "source": [
    "**线性变换：**\n",
    "\n",
    "- 直线仍是直线\n",
    "- 原点保持固定\n",
    "\n",
    "可看为“保持网格平行且等距分布”的变换\n",
    "\n",
    "注意：下面这种并非线性变换：其对角线弯曲了\n",
    "\n",
    "\n",
    "![图](../figure/day_22_1.png)\n",
    "<hr>\n",
    "补充：\"线性\"的严格定义如下：\n",
    "![图](../figure/day_22_2.png)"
   ]
  },
  {
   "cell_type": "markdown",
   "metadata": {},
   "source": [
    "**如何用数值描述线性变换？**\n",
    "\n",
    "实际结果是： 你只需要记录两个基向量i和j<font color='red'>变换</font>后的位置\n",
    "\n",
    "比如：考虑原基向量为i(1,0), j(0,1)，变换后对应变为i(3,1)，(1,2)， 那么相当于其乘于矩阵[[1, 3], [2, 1]]"
   ]
  },
  {
   "cell_type": "markdown",
   "metadata": {},
   "source": [
    "这样，每当你看到一个矩阵时，都可以把它解读为空间的一个特殊变换：\n",
    "\n",
    "![图](../figure/day_22_3.png)"
   ]
  },
  {
   "cell_type": "markdown",
   "metadata": {},
   "source": [
    "## 3.矩阵乘法与线性变换组合"
   ]
  },
  {
   "cell_type": "markdown",
   "metadata": {},
   "source": [
    "一个矩阵([[1, -2], [1,0]])，其所代表的变换如图：\n",
    "\n",
    "![](../figure/day22_4.png)"
   ]
  },
  {
   "cell_type": "markdown",
   "metadata": {},
   "source": [
    "同样，另一个矩阵代表的变换：\n",
    "\n",
    "![](../figure/day22_5.png)"
   ]
  },
  {
   "cell_type": "markdown",
   "metadata": {},
   "source": [
    "相当于先M1变换，再M2变换：\n",
    "\n",
    "![](../figure/day22_6.png)"
   ]
  },
  {
   "cell_type": "markdown",
   "metadata": {},
   "source": [
    "这个新的变换即是M2 product M1的结果。"
   ]
  },
  {
   "cell_type": "markdown",
   "metadata": {},
   "source": [
    "这样来理解的话，M1M2 等于M2M1当然不成立了！"
   ]
  },
  {
   "cell_type": "markdown",
   "metadata": {},
   "source": [
    "同样，对于**结合律**：(AB)C 等于A(BC) 这样理解的话即为：\n",
    "\n",
    "**先运用C变换，然后运用B变换和A变换后的新变换 == 首先应用C变换和B变换，再运用A变换**\n",
    "\n",
    "你只是将同样的三个变换用同样的顺序依次作用而已！"
   ]
  },
  {
   "cell_type": "markdown",
   "metadata": {},
   "source": [
    "### 三维甚至多维空间中的线性变换同样可以这样来理解: 缩放再相加"
   ]
  },
  {
   "cell_type": "markdown",
   "metadata": {},
   "source": [
    "比如，在三维坐标系(i,j,k分别为[1,0,0]、[0,1,0]、[0,0,1])中，沿着y轴方向顺时针旋转90度，那么变换后的i为[0,0,-1], j为[0,1,0], k为[1,0,0], 那么这个三维空间的变换可以用[[0,0,1],\n",
    "                [0,1,0],\n",
    "                [-1,0,0]] 来表示。<img src='../figure/linear_algebra_3dim_trans.jpg' width=130 />"
   ]
  },
  {
   "cell_type": "markdown",
   "metadata": {},
   "source": [
    "<img src='../figure/linear_algebra_3dim_trans_2.png' width=600 />"
   ]
  },
  {
   "cell_type": "markdown",
   "metadata": {},
   "source": [
    "## 4 行列式"
   ]
  },
  {
   "cell_type": "markdown",
   "metadata": {},
   "source": [
    "在上几节中，我们知道了有的线性变换是将原基向量进行拉伸，而有的则是挤压，而有一件事很重要，那就是知晓**变换对空间有多少拉伸或挤压**\n",
    "<br> **更具体一点，就是要测量一个给定区域面积增大或缩小的比例(how much are areas scaled?)。**"
   ]
  },
  {
   "cell_type": "markdown",
   "metadata": {},
   "source": [
    "<img src='../figure/determinant_1.png' width=600 />"
   ]
  },
  {
   "cell_type": "markdown",
   "metadata": {},
   "source": [
    "注意到一点，只要知道了i, j围成的方格的面积的变化，也就知道了任意给定形状面积的变化， 这是由**网格线保持平行且等距分布**这一实时推断出来的。"
   ]
  },
  {
   "cell_type": "markdown",
   "metadata": {},
   "source": [
    "<font color='red' >而这个线性变换改变面积的比例被称为这个变换的行列式。</font>\n",
    "<img src='../figure/determinant_2.png' width=600 />"
   ]
  },
  {
   "cell_type": "markdown",
   "metadata": {},
   "source": [
    "说明: 如果一个矩阵的行列式为0， 那么说明这个矩阵(线性变换)将空间压到了更小的维度上。\n",
    "<br>  如果一个矩阵的行列式为负， 其用来说明定向改变(三维中有个右手法则)。\n",
    "<img src='../figure/determinant_3.png' width=500 />"
   ]
  },
  {
   "cell_type": "markdown",
   "metadata": {},
   "source": [
    "由此来理解 det(M1M2) = det(M1) * det(M2) 也是轻而易举。"
   ]
  },
  {
   "cell_type": "markdown",
   "metadata": {},
   "source": [
    "## 5 逆矩阵、列空间和零空间"
   ]
  },
  {
   "cell_type": "code",
   "execution_count": null,
   "metadata": {},
   "outputs": [],
   "source": []
  }
 ],
 "metadata": {
  "kernelspec": {
   "display_name": "data_analysis",
   "language": "python",
   "name": "data_analysis"
  },
  "language_info": {
   "codemirror_mode": {
    "name": "ipython",
    "version": 3
   },
   "file_extension": ".py",
   "mimetype": "text/x-python",
   "name": "python",
   "nbconvert_exporter": "python",
   "pygments_lexer": "ipython3",
   "version": "3.7.0"
  }
 },
 "nbformat": 4,
 "nbformat_minor": 2
}
