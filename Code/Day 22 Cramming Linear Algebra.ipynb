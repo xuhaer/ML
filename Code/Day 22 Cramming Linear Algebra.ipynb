{
 "cells": [
  {
   "cell_type": "markdown",
   "metadata": {},
   "source": [
    "# Day 22 Cramming Linear Algebra\n",
    "[3Blue1Brown--《线性代数的本质》包括了向量，线性组\n",
    "合，跨度，基向量，线性变换和矩阵乘法。](https://space.bilibili.com/88461692/#/channel/detail?cid=9450)"
   ]
  },
  {
   "cell_type": "markdown",
   "metadata": {},
   "source": [
    "## 1.一种更易于理解向量的方式:\n",
    "![figure1](../figure/day21_linear_algebra1.png)"
   ]
  },
  {
   "cell_type": "markdown",
   "metadata": {},
   "source": [
    "每一对数给出唯一一个向量，而每一个向量恰好对应唯一一对数。\n",
    "<br>\n",
    "同样，对于3维空间而言：可理解为第一个数沿x轴走多远，第二个数沿着y轴走多远，第三个数沿着z轴走多远，每一个三元元组给出唯一一个向量，而每一个向量恰好对应唯一一个三元元组。"
   ]
  },
  {
   "cell_type": "markdown",
   "metadata": {},
   "source": [
    "## 2.线性代数的变换与它与矩阵的关系"
   ]
  },
  {
   "cell_type": "markdown",
   "metadata": {},
   "source": [
    "**线性变换：**\n",
    "\n",
    "- 直线仍是直线\n",
    "- 原点保持固定\n",
    "\n",
    "可看为“保持网格平行且等距分布”的变换:\n",
    "\n",
    "![图](../figure/linear_transform.gif)\n",
    "\n",
    "注意：下面这种并非线性变换：其对角线弯曲了\n",
    "\n",
    "\n",
    "![图](../figure/day_22_1.png)\n",
    "<hr>\n",
    "补充：\"线性\"的严格定义如下：\n",
    "![图](../figure/day_22_2.png)"
   ]
  },
  {
   "cell_type": "markdown",
   "metadata": {},
   "source": [
    "**如何用数值描述线性变换？**\n",
    "\n",
    "实际结果是： 你只需要记录两个基向量i和j<font color='red'>变换</font>后的位置\n",
    "\n",
    "比如：考虑原基向量为i(1,0), j(0,1)，变换后对应变为i(3,1)，(1,2)， 那么相当于其乘于矩阵[[1, 3], [2, 1]]"
   ]
  },
  {
   "cell_type": "markdown",
   "metadata": {},
   "source": [
    "这样，每当你看到一个矩阵时，都可以把它解读为空间的一个特殊变换：\n",
    "\n",
    "![图](../figure/matrix_as_linear_trans.gif)"
   ]
  },
  {
   "cell_type": "markdown",
   "metadata": {},
   "source": [
    "## 3.矩阵乘法与线性变换组合"
   ]
  },
  {
   "cell_type": "markdown",
   "metadata": {},
   "source": [
    "一个矩阵([[1, -2], [1,0]])，其所代表的变换如图：\n",
    "\n",
    "![](../figure/day22_4.png)"
   ]
  },
  {
   "cell_type": "markdown",
   "metadata": {},
   "source": [
    "同样，另一个矩阵代表的变换：\n",
    "\n",
    "![](../figure/day22_5.png)"
   ]
  },
  {
   "cell_type": "markdown",
   "metadata": {},
   "source": [
    "相当于先M1变换，再M2变换：\n",
    "\n",
    "![](../figure/cal_dot.gif)"
   ]
  },
  {
   "cell_type": "markdown",
   "metadata": {},
   "source": [
    "这个新的变换即是M2 product M1的结果。"
   ]
  },
  {
   "cell_type": "markdown",
   "metadata": {},
   "source": [
    "这样来理解的话，M1M2 等于M2M1当然不成立了！"
   ]
  },
  {
   "cell_type": "markdown",
   "metadata": {},
   "source": [
    "同样，对于**结合律**：(AB)C 等于A(BC) 这样理解的话即为：\n",
    "\n",
    "**先运用C变换，然后运用B变换和A变换后的新变换 == 首先应用C变换和B变换，再运用A变换**\n",
    "\n",
    "你只是将同样的三个变换用同样的顺序依次作用而已！"
   ]
  },
  {
   "cell_type": "markdown",
   "metadata": {},
   "source": [
    "### 三维甚至多维空间中的线性变换同样可以这样来理解: 缩放再相加"
   ]
  },
  {
   "cell_type": "markdown",
   "metadata": {},
   "source": [
    "比如，在三维坐标系(i,j,k分别为[1,0,0]、[0,1,0]、[0,0,1])中，沿着y轴方向顺时针旋转90度，那么变换后的i为[0,0,-1], j为[0,1,0], k为[1,0,0], 那么这个三维空间的变换可以用[[0,0,1],\n",
    "                [0,1,0],\n",
    "                [-1,0,0]] 来表示。<img src='../figure/linear_algebra_3dim_trans.jpg' width=130 />"
   ]
  },
  {
   "cell_type": "markdown",
   "metadata": {},
   "source": [
    "<img src='../figure/linear_algebra_3dim_trans_2.png' width=600 />"
   ]
  },
  {
   "cell_type": "markdown",
   "metadata": {},
   "source": [
    "## 4 行列式"
   ]
  },
  {
   "cell_type": "markdown",
   "metadata": {},
   "source": [
    "在上几节中，我们知道了有的线性变换是将原基向量进行拉伸，而有的则是挤压，而有一件事很重要，那就是知晓**变换对空间有多少拉伸或挤压**\n",
    "<br> **更具体一点，就是要测量一个给定区域面积增大或缩小的比例(how much are areas scaled?)。**"
   ]
  },
  {
   "cell_type": "markdown",
   "metadata": {},
   "source": [
    "<img src='../figure/determinant_1.png' width=600 />"
   ]
  },
  {
   "cell_type": "markdown",
   "metadata": {},
   "source": [
    "注意到一点，只要知道了i, j围成的方格的面积的变化，也就知道了任意给定形状面积的变化， 这是由**网格线保持平行且等距分布**这一实时推断出来的。"
   ]
  },
  {
   "cell_type": "markdown",
   "metadata": {},
   "source": [
    "<font color='red' >而这个线性变换改变面积的比例被称为这个变换的行列式。</font>\n",
    "<img src='../figure/determinant_2.png' width=600 />"
   ]
  },
  {
   "cell_type": "markdown",
   "metadata": {},
   "source": [
    "说明: 如果一个矩阵的行列式为0， 那么说明这个矩阵(线性变换)将空间压到了更小的维度上。\n",
    "<br>  如果一个矩阵的行列式为负， 其用来说明定向改变(三维中有个右手法则)。\n",
    "<img src='../figure/determinant_3.png' width=500 />"
   ]
  },
  {
   "cell_type": "markdown",
   "metadata": {},
   "source": [
    "由此来理解 det(M1M2) = det(M1) * det(M2) 也是轻而易举。"
   ]
  },
  {
   "cell_type": "markdown",
   "metadata": {},
   "source": [
    "## 5 逆矩阵、列空间和零空间"
   ]
  },
  {
   "cell_type": "markdown",
   "metadata": {},
   "source": [
    "<img src='../figure/inverse_matrix_1.png' width=500 />"
   ]
  },
  {
   "cell_type": "markdown",
   "metadata": {},
   "source": [
    "矩阵A代表一种线性变换，所以求解Ax =v 意味着寻找这样一个向量x : 向量x在矩阵A的变换后与v重合。\n",
    "\n",
    "显然，在det(A) != 0的情况下，有且只有一个这样的向量x满足这样的条件。并且可以通过**逆向变换**来找到这个x向量。\n",
    "<br> 比如，如果A代表的是顺时针旋转90度的变换，那么它的逆向变换则是逆时针旋转90度。"
   ]
  },
  {
   "cell_type": "markdown",
   "metadata": {},
   "source": [
    "而两个变换相继作用在代数上体现为矩阵乘法，所以A逆的核心在于，A逆乘于A等于一个“什么都不做”的矩阵。\n",
    "而一旦找到了这个A逆矩阵，也就可以通过这种方式来求解x向量："
   ]
  },
  {
   "cell_type": "markdown",
   "metadata": {},
   "source": [
    "<img src='../figure/inverse_matrix_2.png' width=500 />"
   ]
  },
  {
   "cell_type": "markdown",
   "metadata": {},
   "source": [
    "而对于det(A)等于零的情况，代表A这个线性变换会将空间\"压缩\",比如2维平面\"压缩\"为一条直线，在这种情况，如果v向量恰好在\"压缩\"后的这条直线上，那么存在向量x的解。 另外，出现了一个与这个\"压缩\"有关的术语--秩(rank)"
   ]
  },
  {
   "cell_type": "markdown",
   "metadata": {},
   "source": [
    "<img src='../figure/rank_1.png' width=500 />"
   ]
  },
  {
   "cell_type": "markdown",
   "metadata": {},
   "source": [
    "而不管是一条直线、一个平面还是三维空间，所有可能的变换结果(输出向量Av)的集合被称为矩阵的“列空间(Columns space of A)”\n",
    "<br>可理解为列空间即为基向量能张成的空间\n",
    "\n",
    "其实秩(rank)更精确的定义即为**列空间的维数**"
   ]
  },
  {
   "cell_type": "markdown",
   "metadata": {},
   "source": [
    "<img src='../figure/rank_2.png' width=800 />"
   ]
  },
  {
   "cell_type": "markdown",
   "metadata": {},
   "source": [
    "注意: 零向量一定在列空间中，因为线性变换必须保持原点位置不变。\n",
    "<br>对于一个满秩变换来说，唯一能在变换后落在原点的就是零向量本身。但是对于一个非满秩的变换来说，它将空间压缩到一个更低维度上，也就是说会有一系列向量在变换后成为零向量。\n",
    "<br>比如一个将二维空间压缩到一条直线上，那么该二维空间里会有某个方向直线上所有点会被压缩到原点。\n",
    "\n",
    "**变换后落在原点的向量的集合，被称为矩阵的\"零空间(null space)\" 或 \"核(kernel)\"**"
   ]
  },
  {
   "cell_type": "markdown",
   "metadata": {},
   "source": [
    "对线性方程来说，当向量恰好为零向量时，零空间给出的就是这个向量方程所有可能的解。\n",
    "<img src='../figure/rank_3.png' width=400 />"
   ]
  },
  {
   "cell_type": "markdown",
   "metadata": {},
   "source": [
    "## 6 非方阵\n",
    "同方阵的理解一样: "
   ]
  },
  {
   "cell_type": "markdown",
   "metadata": {},
   "source": [
    "<img src='../figure/nosquare_1.png' width=400 />"
   ]
  },
  {
   "cell_type": "markdown",
   "metadata": {},
   "source": [
    "输入: 2 `*` 2方阵， 输出3 `*` 2矩阵，代表将一个二维平面变换到一个三维空间中的二维平面:"
   ]
  },
  {
   "cell_type": "markdown",
   "metadata": {},
   "source": [
    "<img src='../figure/nosquare_2.png' width=400 />"
   ]
  },
  {
   "cell_type": "markdown",
   "metadata": {},
   "source": [
    "输入: 3 `*` 3方阵， 输出2 `*` 3矩阵，代表将一个三维空间变换到一个二维平面:"
   ]
  },
  {
   "cell_type": "markdown",
   "metadata": {},
   "source": [
    "<img src='../figure/nosquare_3.png' width=400 />"
   ]
  },
  {
   "cell_type": "markdown",
   "metadata": {},
   "source": [
    "## 7 点积与对偶性"
   ]
  },
  {
   "cell_type": "markdown",
   "metadata": {},
   "source": [
    "点积: 对应坐标相乘再相加: 4 `*` 2 + 1 `*` (-1) = 7\n",
    "<img src='../figure/dot_product_and_duality_1.png' width=600 />"
   ]
  },
  {
   "cell_type": "markdown",
   "metadata": {},
   "source": [
    "并且，点积与顺序无关: 上图中用v投影(正交，以下同)到w上来计算会得到相同的结果。如果v向量和w向量完全对称，那么显然点积与顺序无关，当我们将其中一个向量缩放x倍时，v·(x`*`w)可看成 x`*`(v·w), 其中v和w对称，其结果是一个常数，然后再缩放x倍即得到最终结果, 而如果将缩放后的v投影到上去，其投影长度也相应缩放了x倍: \n",
    "<img src='../figure/dot_order.gif' width=600 />"
   ]
  },
  {
   "cell_type": "markdown",
   "metadata": {},
   "source": [
    "当看到一个二维到一维的变换，空间中会存在唯一的向量v与之对应，就这一意义而言，应用变换和与向量v做点积是一样的:\n",
    "<img src='../figure/dot_product_and_duality_4.png' width=600 />\n",
    "<img src='../figure/dot_product_and_duality_5.gif' width=600 />"
   ]
  },
  {
   "cell_type": "markdown",
   "metadata": {},
   "source": [
    "## 8 叉积"
   ]
  },
  {
   "cell_type": "markdown",
   "metadata": {},
   "source": [
    "<img src='../figure/cross_product_1.png' width=600 />\n",
    "叉积基向量的顺序是定向的基础。"
   ]
  },
  {
   "cell_type": "markdown",
   "metadata": {},
   "source": [
    "### 计算：其长度为：\n",
    "<img src='../figure/cross_product_2.png' width=600 />"
   ]
  },
  {
   "cell_type": "markdown",
   "metadata": {},
   "source": [
    "而叉积实际代表的是这样一个向量：\n",
    "<img src='../figure/cross_product_3.png' width=600 />\n",
    "但这样的向量实际上有2个，到底是哪一个得依据右手法则。\n",
    "具体向量的计算:\n",
    "<img src='../figure/cross_product_4.png' width=600 />"
   ]
  },
  {
   "cell_type": "markdown",
   "metadata": {},
   "source": [
    "另一方面，可将叉积理解为一个线性的f(x,y,z)函数，一旦知道它是线性的，你就知道可以通过矩阵乘法来描述这个函数：\n",
    "\n",
    "<img src='../figure/cross_product_5.png' width=600 />\n",
    "\n",
    "所以根据前面‘对偶性’的知识，我们知道：存在一个1`*`3矩阵来代表这个变换。从而有:\n",
    "<img src='../figure/cross_product_6.png' width=600 />\n",
    "\n",
    "这说明，当你将向量p和某个向量(x,y,z)点乘时，所得的结果等于一个3`*`3矩阵的行列式，这个矩阵的第一列为(x,y,z), 其余两列为v和w的坐标， 什么样的向量p才能满足这一特殊性质呢？"
   ]
  },
  {
   "cell_type": "markdown",
   "metadata": {},
   "source": [
    "而点积意味着投影的长度相乘，对于我们所关心的平行六面体的体积有：\n",
    "\n",
    "<img src='../figure/cross_product_7.png' width=600 />\n",
    "\n",
    "这和垂直于v和w且长度为平行四边形面积的向量与(x,y,z)点乘是同一回事，更重要的是，如果合理地选择p向量\"投影\"向量的方向，点积为正的情况就会与(x,y,z)、v和w满足右手定则的情况吻合。\n",
    "\n",
    "这意味着我们找到了一个向量p，使得p与某个向量(x,y,z) 点乘时，所得结果等于一个3 `*` 3矩阵的行列式，这个矩阵的三列分别为(x,y,z)、v的坐标和w的坐标，因此我们之前通过对特殊符号技巧进行计算所得的向量，必然在几何上与这个向量对应，这就是叉积的计算过程与几何解释有关的根本原因。 "
   ]
  },
  {
   "cell_type": "markdown",
   "metadata": {},
   "source": [
    "## 9 基向量"
   ]
  },
  {
   "cell_type": "markdown",
   "metadata": {},
   "source": [
    "使用一个具体的例子：变换左旋转90°，在我们的语言中，和詹妮弗的语言分别是如何互相转换的来加深印象:\n",
    "\n",
    "<img src='../figure/basis_vector.gif' width=600 />"
   ]
  },
  {
   "cell_type": "markdown",
   "metadata": {},
   "source": [
    "* 左乘基变换矩阵（矩阵的列代表的是用我们的语言描述詹妮弗语言的基向量）：需要被转换的詹妮弗的语言: [-1,2] ➜我们的语言来描述同一个向量.\n",
    "* 左乘线性变换矩阵（表示的变化为：左旋转90°）：➜变换的后的向量（还是以我们的语言来描述）\n",
    "* 左乘基变换矩阵的逆：➜变换后的向量（用詹妮弗的语言来描述）\n",
    "\n",
    "这三个矩阵合起来就是用詹妮弗语言描述的一个线性变换"
   ]
  },
  {
   "cell_type": "markdown",
   "metadata": {},
   "source": [
    "总结:表达式 $\\mathbf A^{-1} \\mathbf M \\mathbf A$ 暗示着一种<strong>数学上的转移作用</strong>\n",
    "<ul>\n",
    "<li>中间的 $\\mathbf M$ 代表一种你所见的转换（例子中的90°旋转变换）</li>\n",
    "<li>两侧的矩阵 $\\mathbf A$ 代表着转移作用（不同坐标系间的<strong>基向量转换</strong>），即就是<strong>视角上的转换</strong></li>\n",
    "<li><strong>矩阵乘积仍然表示着同一个变换</strong>，只不过从其他人的角度来看</li>\n",
    "</ul>\n"
   ]
  },
  {
   "cell_type": "markdown",
   "metadata": {},
   "source": [
    "## 10 特征向量与特征值\n",
    "线性代数的一切概念，如行列式和特征向量，它们并不受所选坐标系的影响，但是这两者是暗含于空间中的性质"
   ]
  },
  {
   "cell_type": "markdown",
   "metadata": {},
   "source": [
    "对于一个二维平面，在一个线性变换中，大多数向量张成的直线会因线性变换而被旋转和拉伸(压缩)，只有少数表现为仅被拉伸, 而这些特殊的向量被称为**特征向量，每一个特征向量都有一个所属的值，被称为特征值：即衡量特征向量在变换中被拉伸或压缩比例的因子。**\n",
    "<img src='../figure/eigen_vector_value.png' width=600 />\n",
    "简单说一个它的用途，比如对于三维空间的旋转，如果你能找到这个旋转矩阵的特征向量，那么你找到的就是旋转轴。而且你把一个三维旋转看成绕某个轴旋转一定角度，要比考虑相应的3`*`3矩阵要直观得多。相应地，在这种情况下特征值必肯定1，因旋转并无任何缩放。"
   ]
  },
  {
   "cell_type": "markdown",
   "metadata": {},
   "source": [
    "<img src='../figure/eigen_vector_value_2.png' width=600 />\n",
    "\n",
    "考虑到右边是一个矩阵乘法，我们希望左右都是一个矩阵乘法，这样方便等价和计算。观察发现，λv就是给 v中每一个元素都乘以 λ, 对角矩阵 I且对角线元素为λ的矩阵也能有同样的变换结果，得到下列表达式\n",
    "$$\\mathbf A \\mathbf{\\vec v} = (\\lambda \\mathbf I ) \\mathbf{\\vec v} \\implies (\\mathbf A - \\lambda \\mathbf I ) \\mathbf{\\vec v} = 0$$\n",
    "观察这个等式你会发现：可以把 $\\mathbf A - \\lambda \\mathbf I$ 矩阵看成一个对 $\\mathbf{\\vec v}$ 矩阵的变换, 目的是把 $\\mathbf{\\vec v}$ 压缩到更低的维度, 而空间压缩对应的恰好就是**变换矩阵的行列式为0。**"
   ]
  },
  {
   "cell_type": "markdown",
   "metadata": {},
   "source": [
    "### 特征基\n",
    "对角矩阵：只有对角线非零的矩阵。解读它的方法是：所有的基向量都是特征向量。因为之前提到过，矩阵的第一列是 i，第二列是 j，往后同理。这样就能发现，如果一列只有对应的位置非零，那么这个坐标轴本身就就是特征向量。\n",
    "\n",
    "一组特征向量构成的基向量构成的集合被称为一组：特征基\n",
    "\n",
    "对角矩阵有一个好处是计算方便，多次矩阵乘法非常容易\n",
    "\n",
    "这时我们就希望利用对角矩阵（基向量为特征向量）的便于计算的特性，利用上一节提到的基向量变换的方法，把特征向量作为基，对每一个矩阵进行变换后再进行计算，最后再左乘变换矩阵的逆求回原矩阵得到结果。\n",
    "\n",
    "需要注意的是：并不是所有的矩阵都能对角化，比如Shear变换，它的特征向量不够多，不足以张成一个空间"
   ]
  },
  {
   "cell_type": "markdown",
   "metadata": {},
   "source": [
    "## 11 抽象向量空间"
   ]
  },
  {
   "cell_type": "markdown",
   "metadata": {},
   "source": [
    "从某种意义上说，函数实际上只是另一种向量，类比函数f和g的相加得到一个新函数(f + g), 更具体的说是 ( f+ g)(x) = f(x) + g(x)，这和向量对应坐标非常相似, 类似函数与一个实数相乘也有合理的解释。\n",
    "\n",
    "而对向量锁能进行的操作不过相加和数乘两种，所以最初一空间中的箭头为背景考虑的线性代数的合理概念和解决问题的手段应该能够原封不动被我们取出来然后应用于函数。"
   ]
  },
  {
   "cell_type": "markdown",
   "metadata": {},
   "source": [
    "例如：微积分中的导数用矩阵来描述\n",
    "\n",
    "<img src='../figure/abstract_vector_space.png' width=400 />\n",
    "\n",
    "换句话说，第一个基函数就是一个常数函数, 第二个基函数则是一个一次函数依此类推。\n",
    "\n",
    "<img src='../figure/abstract_vector_space_2.png' width=400 />\n",
    "\n",
    "<img src='../figure/abstract_vector_space_3.png' width=400 />"
   ]
  },
  {
   "cell_type": "markdown",
   "metadata": {},
   "source": [
    "于是，对于求导: \n",
    "\n",
    "<img src='../figure/abstract_vector_space_4.png' width=600 />\n",
    "\n",
    "<img src='../figure/abstract_vector_space_5.png' width=600 />\n",
    "\n",
    "<img src='../figure/abstract_vector_space_6.png' width=400 />\n"
   ]
  },
  {
   "cell_type": "markdown",
   "metadata": {},
   "source": [
    "乍一看，矩阵向量乘法和求导是毫不相干的，但其实它俩是一家人:\n",
    "\n",
    "<img src='../figure/abstract_vector_space_7.png' width=400 />\n",
    "\n",
    "实际上，这个系列种讨论过的大部分关于向量(空间中的箭头)的概念，在函数的世界中都有直接的类比。\n",
    "\n",
    "<img src='../figure/abstract_vector_space_8.png' width=400 />\n",
    "\n"
   ]
  },
  {
   "cell_type": "markdown",
   "metadata": {},
   "source": [
    "《线性代数的本质》系列就此完结，因11月出了点意外的事外加自己比较松懈，拖得有点久，反思。\n",
    "接下来预期 一个月到 一个半月的时间把《线性代数及其应用》--David C.Lay 基本过一遍。\n",
    "<hr>\n",
    "<font color=grey> --2018年11月29日 23:22 </font>"
   ]
  },
  {
   "cell_type": "code",
   "execution_count": null,
   "metadata": {},
   "outputs": [],
   "source": []
  }
 ],
 "metadata": {
  "kernelspec": {
   "display_name": "data_analysis",
   "language": "python",
   "name": "data_analysis"
  },
  "language_info": {
   "codemirror_mode": {
    "name": "ipython",
    "version": 3
   },
   "file_extension": ".py",
   "mimetype": "text/x-python",
   "name": "python",
   "nbconvert_exporter": "python",
   "pygments_lexer": "ipython3",
   "version": "3.7.1"
  }
 },
 "nbformat": 4,
 "nbformat_minor": 2
}
